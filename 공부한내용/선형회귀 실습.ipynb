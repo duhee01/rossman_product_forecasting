{
 "cells": [
  {
   "cell_type": "code",
   "execution_count": 17,
   "id": "e42066e3",
   "metadata": {},
   "outputs": [],
   "source": [
    "#최소제곱\n",
    "#선형회귀란 임의의 직선을 그어 이에 대한 평균 제곱 오차를 구하고, 이 값을 가장 작게 만들어주는 a와 b값을 찾아가는 작업입니다."
   ]
  },
  {
   "cell_type": "code",
   "execution_count": 1,
   "id": "fa204b23",
   "metadata": {},
   "outputs": [],
   "source": [
    "import numpy as np"
   ]
  },
  {
   "cell_type": "code",
   "execution_count": 3,
   "id": "b543e28d",
   "metadata": {},
   "outputs": [],
   "source": [
    "x=[2,4,6,8]\n",
    "y=[81,93,91,97]"
   ]
  },
  {
   "cell_type": "code",
   "execution_count": 16,
   "id": "ec98e622",
   "metadata": {},
   "outputs": [],
   "source": [
    "mx = np.mean(x)\n",
    "my = np.mean(y)\n",
    "# np.mean()은 괄호안 변수의 모든 원소의 평균을 구하는 함수임."
   ]
  },
  {
   "cell_type": "code",
   "execution_count": 6,
   "id": "7710e6d4",
   "metadata": {},
   "outputs": [
    {
     "name": "stdout",
     "output_type": "stream",
     "text": [
      "x의 평균값 :  5.0\n",
      "y의 평균값 :  90.5\n"
     ]
    }
   ],
   "source": [
    "print(\"x의 평균값 : \", mx)\n",
    "print(\"y의 평균값 : \", my)"
   ]
  },
  {
   "cell_type": "code",
   "execution_count": 7,
   "id": "41119e3d",
   "metadata": {},
   "outputs": [],
   "source": [
    "divisor = sum([(mx-i)**2 for i in x])"
   ]
  },
  {
   "cell_type": "code",
   "execution_count": 10,
   "id": "318b432f",
   "metadata": {},
   "outputs": [],
   "source": [
    "def top(x,mx,y,my):\n",
    "    d = 0\n",
    "    for i in range(len(x)):\n",
    "        d += (x[i]-mx)*(y[i]-my)\n",
    "    return d\n",
    "dividend = top(x,mx,y,my)"
   ]
  },
  {
   "cell_type": "code",
   "execution_count": 11,
   "id": "70e0ac0f",
   "metadata": {},
   "outputs": [
    {
     "name": "stdout",
     "output_type": "stream",
     "text": [
      "분모: 20.0\n"
     ]
    }
   ],
   "source": [
    "print(\"분모:\", divisor)"
   ]
  },
  {
   "cell_type": "code",
   "execution_count": 12,
   "id": "33ed981a",
   "metadata": {},
   "outputs": [
    {
     "name": "stdout",
     "output_type": "stream",
     "text": [
      "분자 46.0\n"
     ]
    }
   ],
   "source": [
    "print(\"분자\",dividend)"
   ]
  },
  {
   "cell_type": "code",
   "execution_count": 13,
   "id": "e9670341",
   "metadata": {},
   "outputs": [],
   "source": [
    "a = dividend/divisor\n",
    "b = my - (mx*a)"
   ]
  },
  {
   "cell_type": "code",
   "execution_count": 14,
   "id": "68a7e946",
   "metadata": {},
   "outputs": [
    {
     "name": "stdout",
     "output_type": "stream",
     "text": [
      "기울기 a = 2.3\n",
      "y 절편 b =  79.0\n"
     ]
    }
   ],
   "source": [
    "print(\"기울기 a =\", a)\n",
    "print(\"y 절편 b = \",b)"
   ]
  },
  {
   "cell_type": "code",
   "execution_count": null,
   "id": "8b7c88d5",
   "metadata": {},
   "outputs": [],
   "source": [
    "def는 함수를 만들때 사용하는 예약어이다. top()이라는 함수를 새롭게 만들었고, 그 안에 최소 제곱법의 분자식을 그대로 가져와 구현함."
   ]
  }
 ],
 "metadata": {
  "kernelspec": {
   "display_name": "Python 3",
   "language": "python",
   "name": "python3"
  },
  "language_info": {
   "codemirror_mode": {
    "name": "ipython",
    "version": 3
   },
   "file_extension": ".py",
   "mimetype": "text/x-python",
   "name": "python",
   "nbconvert_exporter": "python",
   "pygments_lexer": "ipython3",
   "version": "3.8.8"
  }
 },
 "nbformat": 4,
 "nbformat_minor": 5
}
