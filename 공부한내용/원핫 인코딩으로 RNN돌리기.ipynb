{
 "cells": [
  {
   "cell_type": "code",
   "execution_count": 32,
   "id": "6f6d2f96",
   "metadata": {},
   "outputs": [],
   "source": [
    "import numpy as np\n",
    "import tensorflow as tf"
   ]
  },
  {
   "cell_type": "markdown",
   "id": "bbe2d04a",
   "metadata": {},
   "source": [
    "# index to characteristic 으로 각각의 알파벳에 대해  one hot encoding을 하기 위한 코드임."
   ]
  },
  {
   "cell_type": "code",
   "execution_count": 33,
   "id": "50fee4fa",
   "metadata": {},
   "outputs": [],
   "source": [
    "idx2char = ['h','i','e','l','o']\n",
    "#teach hello : hihell->ihello  (hi hello)\n",
    "#x_data = [[0,1,0,2,3,3]]#hihell\n",
    "y_data = [[1,0,2,3,3,4]] #ihello"
   ]
  },
  {
   "cell_type": "markdown",
   "id": "da27e2a7",
   "metadata": {},
   "source": [
    "0 = h, 1 = i, 2 = e,  3 = l, 4 = o 로 구성"
   ]
  },
  {
   "cell_type": "code",
   "execution_count": 34,
   "id": "640f5d05",
   "metadata": {},
   "outputs": [],
   "source": [
    "num_classes = 5\n",
    "#h,i,e,l,o 5개로 분류하는것.\n",
    "input_dim = 5 #one-hot size, same as hidden_size to directly predict one-hot\n",
    "sequence_length = 6 #ihell=6\n",
    "learning_rate = 0.1"
   ]
  },
  {
   "cell_type": "code",
   "execution_count": 35,
   "id": "2710f18f",
   "metadata": {},
   "outputs": [],
   "source": [
    "x_one_hot = np.array([[[1,0,0,0,0], #h0\n",
    "                      [0,1,0,0,0], #i1\n",
    "                      [1,0,0,0,0], #h0\n",
    "                      [0,0,1,0,0], #e2\n",
    "                      [0,0,0,1,0], #l3 \n",
    "                      [0,0,0,0,1]]],#l3 \n",
    "                    dtype = np.float32)\n",
    "#학습하기 위한 x_data를 원핫인코딩한 값으로 정해주는 것.\n",
    "#hi hell을 x_data로 넣어주는 중\n",
    "#직접하는 코드인듯??"
   ]
  },
  {
   "cell_type": "code",
   "execution_count": 36,
   "id": "c22737a0",
   "metadata": {},
   "outputs": [
    {
     "name": "stdout",
     "output_type": "stream",
     "text": [
      "(1, 6, 5)\n",
      "(1, 6, 5)\n"
     ]
    }
   ],
   "source": [
    "y_one_hot = tf.keras.utils.to_categorical(y_data,num_classes=num_classes)\n",
    "#y_data를 원핫인코딩해주는 코드임. 더깔끔하게 하는 코드인듯.(keras에서 지원해주는 원핫인코딩)\n",
    "#정수를 이진 클래스 행렬로 변환함\n",
    "print(x_one_hot.shape)\n",
    "print(y_one_hot.shape)"
   ]
  },
  {
   "cell_type": "code",
   "execution_count": 37,
   "id": "bca796a9",
   "metadata": {},
   "outputs": [],
   "source": [
    "tf.model = tf.keras.Sequential()"
   ]
  },
  {
   "cell_type": "code",
   "execution_count": 38,
   "id": "541148f4",
   "metadata": {},
   "outputs": [],
   "source": [
    "cell = tf.keras.layers.LSTMCell(units=num_classes,input_shape=(sequence_length,input_dim))\n",
    "#LSTM으로 5개의 분류, 6행 5열로  input_data를 정렬해주는 것을 의미."
   ]
  },
  {
   "cell_type": "code",
   "execution_count": 39,
   "id": "81bab7b8",
   "metadata": {},
   "outputs": [],
   "source": [
    "tf.model.add(tf.keras.layers.RNN(cell=cell, return_sequences=True))\n",
    "#RNN으로  LSTM cell을 정해주고 마지막 명령어로  time sequential(시간순서로)한 데이터 임을 선언해줌."
   ]
  },
  {
   "cell_type": "code",
   "execution_count": 40,
   "id": "dfe25980",
   "metadata": {},
   "outputs": [],
   "source": [
    "tf.model.add(tf.keras.layers.TimeDistributed(tf.keras.layers.Dense(units=num_classes,activation='softmax')))\n",
    "#모델의 layer을 설정해주는 부분으로, 기존에는 tf.keras.layers(!!)이런식으로 정리되었는데\n",
    "#TimeDistributed를 추가시켜줌.\n",
    "#classes를 5개로 선언하고, softmax를 사용한코드"
   ]
  },
  {
   "cell_type": "markdown",
   "id": "b41fa441",
   "metadata": {},
   "source": [
    "RNN, LSTM에서는 더이상 Relu를 사용하지 않음.\n",
    "Relu는 0이상에 값에서는 y=x가 나오기 때문에 1이상 값이 나올경우 발산할 확률이 높음(거의다 발산함.)\n",
    "따라서 output의 값을 -1~1사이로 해주기 위한 softmax또는 tanh을 주로 사용함."
   ]
  },
  {
   "cell_type": "code",
   "execution_count": 42,
   "id": "4a129df7",
   "metadata": {},
   "outputs": [],
   "source": [
    "tf.model.compile(loss='categorical_crossentropy',optimizer=tf.keras.optimizers.Adam(lr=learning_rate),metrics=['accuracy'])\n",
    "#컴파일이란 어떤 언어 코드를 다른 언어로 바꿔주는 과정임@/\n",
    "#언어를 바꿔주는 과정임."
   ]
  },
  {
   "cell_type": "code",
   "execution_count": 43,
   "id": "abc10ed1",
   "metadata": {},
   "outputs": [
    {
     "name": "stdout",
     "output_type": "stream",
     "text": [
      "Epoch 1/50\n",
      "1/1 [==============================] - 1s 1s/step - loss: 1.6104 - accuracy: 0.3333\n",
      "Epoch 2/50\n",
      "1/1 [==============================] - 0s 5ms/step - loss: 1.5232 - accuracy: 0.3333\n",
      "Epoch 3/50\n",
      "1/1 [==============================] - 0s 6ms/step - loss: 1.4315 - accuracy: 0.3333\n",
      "Epoch 4/50\n",
      "1/1 [==============================] - 0s 10ms/step - loss: 1.3114 - accuracy: 0.3333\n",
      "Epoch 5/50\n",
      "1/1 [==============================] - 0s 10ms/step - loss: 1.1670 - accuracy: 0.5000\n",
      "Epoch 6/50\n",
      "1/1 [==============================] - 0s 7ms/step - loss: 1.0218 - accuracy: 0.5000\n",
      "Epoch 7/50\n",
      "1/1 [==============================] - 0s 10ms/step - loss: 0.8872 - accuracy: 0.6667\n",
      "Epoch 8/50\n",
      "1/1 [==============================] - 0s 4ms/step - loss: 0.7608 - accuracy: 0.8333\n",
      "Epoch 9/50\n",
      "1/1 [==============================] - 0s 14ms/step - loss: 0.6523 - accuracy: 0.8333\n",
      "Epoch 10/50\n",
      "1/1 [==============================] - 0s 11ms/step - loss: 0.5650 - accuracy: 0.8333\n",
      "Epoch 11/50\n",
      "1/1 [==============================] - 0s 15ms/step - loss: 0.4881 - accuracy: 0.8333\n",
      "Epoch 12/50\n",
      "1/1 [==============================] - 0s 5ms/step - loss: 0.4170 - accuracy: 0.8333\n",
      "Epoch 13/50\n",
      "1/1 [==============================] - 0s 7ms/step - loss: 0.3555 - accuracy: 0.8333\n",
      "Epoch 14/50\n",
      "1/1 [==============================] - 0s 8ms/step - loss: 0.3049 - accuracy: 0.8333\n",
      "Epoch 15/50\n",
      "1/1 [==============================] - 0s 6ms/step - loss: 0.2642 - accuracy: 0.8333\n",
      "Epoch 16/50\n",
      "1/1 [==============================] - 0s 5ms/step - loss: 0.2313 - accuracy: 1.0000\n",
      "Epoch 17/50\n",
      "1/1 [==============================] - 0s 15ms/step - loss: 0.2043 - accuracy: 1.0000\n",
      "Epoch 18/50\n",
      "1/1 [==============================] - 0s 5ms/step - loss: 0.1817 - accuracy: 1.0000\n",
      "Epoch 19/50\n",
      "1/1 [==============================] - 0s 10ms/step - loss: 0.1615 - accuracy: 1.0000\n",
      "Epoch 20/50\n",
      "1/1 [==============================] - 0s 10ms/step - loss: 0.1414 - accuracy: 1.0000\n",
      "Epoch 21/50\n",
      "1/1 [==============================] - 0s 5ms/step - loss: 0.1206 - accuracy: 1.0000\n",
      "Epoch 22/50\n",
      "1/1 [==============================] - 0s 14ms/step - loss: 0.1000 - accuracy: 1.0000\n",
      "Epoch 23/50\n",
      "1/1 [==============================] - 0s 10ms/step - loss: 0.0812 - accuracy: 1.0000\n",
      "Epoch 24/50\n",
      "1/1 [==============================] - 0s 7ms/step - loss: 0.0652 - accuracy: 1.0000\n",
      "Epoch 25/50\n",
      "1/1 [==============================] - 0s 7ms/step - loss: 0.0524 - accuracy: 1.0000\n",
      "Epoch 26/50\n",
      "1/1 [==============================] - 0s 5ms/step - loss: 0.0422 - accuracy: 1.0000\n",
      "Epoch 27/50\n",
      "1/1 [==============================] - 0s 12ms/step - loss: 0.0342 - accuracy: 1.0000\n",
      "Epoch 28/50\n",
      "1/1 [==============================] - 0s 8ms/step - loss: 0.0280 - accuracy: 1.0000\n",
      "Epoch 29/50\n",
      "1/1 [==============================] - 0s 7ms/step - loss: 0.0233 - accuracy: 1.0000\n",
      "Epoch 30/50\n",
      "1/1 [==============================] - 0s 13ms/step - loss: 0.0197 - accuracy: 1.0000\n",
      "Epoch 31/50\n",
      "1/1 [==============================] - 0s 10ms/step - loss: 0.0168 - accuracy: 1.0000\n",
      "Epoch 32/50\n",
      "1/1 [==============================] - 0s 5ms/step - loss: 0.0145 - accuracy: 1.0000\n",
      "Epoch 33/50\n",
      "1/1 [==============================] - 0s 12ms/step - loss: 0.0127 - accuracy: 1.0000\n",
      "Epoch 34/50\n",
      "1/1 [==============================] - 0s 12ms/step - loss: 0.0112 - accuracy: 1.0000\n",
      "Epoch 35/50\n",
      "1/1 [==============================] - 0s 7ms/step - loss: 0.0100 - accuracy: 1.0000\n",
      "Epoch 36/50\n",
      "1/1 [==============================] - 0s 12ms/step - loss: 0.0089 - accuracy: 1.0000\n",
      "Epoch 37/50\n",
      "1/1 [==============================] - 0s 6ms/step - loss: 0.0080 - accuracy: 1.0000\n",
      "Epoch 38/50\n",
      "1/1 [==============================] - 0s 9ms/step - loss: 0.0073 - accuracy: 1.0000\n",
      "Epoch 39/50\n",
      "1/1 [==============================] - 0s 7ms/step - loss: 0.0066 - accuracy: 1.0000\n",
      "Epoch 40/50\n",
      "1/1 [==============================] - 0s 5ms/step - loss: 0.0060 - accuracy: 1.0000\n",
      "Epoch 41/50\n",
      "1/1 [==============================] - 0s 14ms/step - loss: 0.0055 - accuracy: 1.0000\n",
      "Epoch 42/50\n",
      "1/1 [==============================] - 0s 10ms/step - loss: 0.0051 - accuracy: 1.0000\n",
      "Epoch 43/50\n",
      "1/1 [==============================] - 0s 4ms/step - loss: 0.0047 - accuracy: 1.0000\n",
      "Epoch 44/50\n",
      "1/1 [==============================] - 0s 9ms/step - loss: 0.0044 - accuracy: 1.0000\n",
      "Epoch 45/50\n",
      "1/1 [==============================] - 0s 12ms/step - loss: 0.0041 - accuracy: 1.0000\n",
      "Epoch 46/50\n",
      "1/1 [==============================] - 0s 15ms/step - loss: 0.0039 - accuracy: 1.0000\n",
      "Epoch 47/50\n",
      "1/1 [==============================] - 0s 14ms/step - loss: 0.0036 - accuracy: 1.0000\n",
      "Epoch 48/50\n",
      "1/1 [==============================] - 0s 9ms/step - loss: 0.0034 - accuracy: 1.0000\n",
      "Epoch 49/50\n",
      "1/1 [==============================] - 0s 8ms/step - loss: 0.0033 - accuracy: 1.0000\n",
      "Epoch 50/50\n",
      "1/1 [==============================] - 0s 8ms/step - loss: 0.0031 - accuracy: 1.0000\n",
      "Model: \"sequential_3\"\n",
      "_________________________________________________________________\n",
      "Layer (type)                 Output Shape              Param #   \n",
      "=================================================================\n",
      "rnn_2 (RNN)                  (None, 6, 5)              220       \n",
      "_________________________________________________________________\n",
      "time_distributed_2 (TimeDist (None, 6, 5)              30        \n",
      "=================================================================\n",
      "Total params: 250\n",
      "Trainable params: 250\n",
      "Non-trainable params: 0\n",
      "_________________________________________________________________\n"
     ]
    }
   ],
   "source": [
    "tf.model.fit(x_one_hot,y_one_hot,epochs=50)\n",
    "tf.model.summary()"
   ]
  },
  {
   "cell_type": "code",
   "execution_count": 44,
   "id": "3f8fce1a",
   "metadata": {},
   "outputs": [
    {
     "name": "stdout",
     "output_type": "stream",
     "text": [
      "[[1.6422161e-03 9.9173892e-01 6.1305999e-03 6.6431016e-06 4.8164322e-04]\n",
      " [9.9863040e-01 6.2729110e-04 2.4510198e-04 4.6984779e-04 2.7407155e-05]\n",
      " [9.4573779e-06 4.1620005e-03 9.9579430e-01 3.2813172e-05 1.4062542e-06]\n",
      " [2.0599045e-04 6.4278065e-06 2.5202460e-05 9.9970883e-01 5.3513922e-05]\n",
      " [2.3161967e-06 1.1132944e-06 3.4926798e-06 9.9985886e-01 1.3424028e-04]\n",
      " [9.1339438e-04 2.3375126e-03 3.0832481e-07 2.7096889e-04 9.9647778e-01]]\n",
      "\tPrediction str: ihello\n"
     ]
    }
   ],
   "source": [
    "predictions =  tf.model.predict(x_one_hot)\n",
    "for i,prediction in enumerate(predictions):\n",
    "    print(prediction)\n",
    "    result_str=[idx2char[c]for c in np.argmax(prediction,axis=1)]\n",
    "    print(\"\\tPrediction str:\",''.join(result_str))"
   ]
  },
  {
   "cell_type": "code",
   "execution_count": 45,
   "id": "1331b7bd",
   "metadata": {},
   "outputs": [
    {
     "data": {
      "text/plain": [
       "array([[[1.6422161e-03, 9.9173892e-01, 6.1305999e-03, 6.6431016e-06,\n",
       "         4.8164322e-04],\n",
       "        [9.9863040e-01, 6.2729110e-04, 2.4510198e-04, 4.6984779e-04,\n",
       "         2.7407155e-05],\n",
       "        [9.4573779e-06, 4.1620005e-03, 9.9579430e-01, 3.2813172e-05,\n",
       "         1.4062542e-06],\n",
       "        [2.0599045e-04, 6.4278065e-06, 2.5202460e-05, 9.9970883e-01,\n",
       "         5.3513922e-05],\n",
       "        [2.3161967e-06, 1.1132944e-06, 3.4926798e-06, 9.9985886e-01,\n",
       "         1.3424028e-04],\n",
       "        [9.1339438e-04, 2.3375126e-03, 3.0832481e-07, 2.7096889e-04,\n",
       "         9.9647778e-01]]], dtype=float32)"
      ]
     },
     "execution_count": 45,
     "metadata": {},
     "output_type": "execute_result"
    }
   ],
   "source": [
    "predictions\n",
    "#예측"
   ]
  },
  {
   "cell_type": "markdown",
   "id": "5f0e67c1",
   "metadata": {},
   "source": [
    "argmax 란 arugment of the maxima 의 축약형\n",
    "최대 값에 해당하는 index 즉 위치를 알려줌. \n",
    "(argmin도 있음 이거는 최소값의 위치 알려줌.)"
   ]
  },
  {
   "cell_type": "code",
   "execution_count": null,
   "id": "fcba603b",
   "metadata": {},
   "outputs": [],
   "source": []
  },
  {
   "cell_type": "code",
   "execution_count": null,
   "id": "3541c81f",
   "metadata": {},
   "outputs": [],
   "source": []
  }
 ],
 "metadata": {
  "kernelspec": {
   "display_name": "Python 3",
   "language": "python",
   "name": "python3"
  },
  "language_info": {
   "codemirror_mode": {
    "name": "ipython",
    "version": 3
   },
   "file_extension": ".py",
   "mimetype": "text/x-python",
   "name": "python",
   "nbconvert_exporter": "python",
   "pygments_lexer": "ipython3",
   "version": "3.8.8"
  }
 },
 "nbformat": 4,
 "nbformat_minor": 5
}
