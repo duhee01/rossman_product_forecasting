{
 "cells": [
  {
   "cell_type": "markdown",
   "id": "22aedb16",
   "metadata": {},
   "source": [
    "### 함수"
   ]
  },
  {
   "cell_type": "code",
   "execution_count": 16,
   "id": "02f9dfc5",
   "metadata": {},
   "outputs": [],
   "source": [
    "# 함수 정의\n",
    "def sum_function(bla, blabla, blablabla):\n",
    "    output = bla + blabla + blablabla\n",
    "    print('<덧셈 함수 출력> \\n''%f + %f +%f = %f'%(bla, blabla, blablabla, output))\n",
    "    return output"
   ]
  },
  {
   "cell_type": "code",
   "execution_count": 17,
   "id": "609c5d52",
   "metadata": {},
   "outputs": [
    {
     "name": "stdout",
     "output_type": "stream",
     "text": [
      "<덧셈 함수 출력> \n",
      "4.000000 + 5.000000 +6.000000 = 15.000000\n"
     ]
    },
    {
     "data": {
      "text/plain": [
       "15"
      ]
     },
     "execution_count": 17,
     "metadata": {},
     "output_type": "execute_result"
    }
   ],
   "source": [
    "# 함수 호출 및 사용\n",
    "sum_function(4,5,6)"
   ]
  },
  {
   "cell_type": "code",
   "execution_count": 18,
   "id": "c9c5b654",
   "metadata": {},
   "outputs": [],
   "source": [
    "# 위의 코드에서는 함수 정의, 호출을 해보았고 결과값 표시에서는 줄바꿈, 문자열 포맷팅을 통해 출력했어요.\n",
    "# 하지만 float 형식이라 소수점 뒷자리가 너무 거슬리니 자릿수 제한을 통해 소수점 한자리 지점까지 잘라봅시다."
   ]
  },
  {
   "cell_type": "code",
   "execution_count": 26,
   "id": "72c7329f",
   "metadata": {},
   "outputs": [],
   "source": [
    "def multiply_function(bla, blabla, blablabla):\n",
    "    output = bla * blabla * blablabla\n",
    "    print('<곱셈 함수 출력> \\n''%.1f x %.1f x %.1f = %.2f'%(bla, blabla, blablabla, output))\n",
    "    return output"
   ]
  },
  {
   "cell_type": "code",
   "execution_count": 28,
   "id": "4ea63919",
   "metadata": {},
   "outputs": [
    {
     "name": "stdout",
     "output_type": "stream",
     "text": [
      "<곱셈 함수 출력> \n",
      "2.5 x 3.1 x 10.0 = 78.50\n"
     ]
    },
    {
     "data": {
      "text/plain": [
       "78.5"
      ]
     },
     "execution_count": 28,
     "metadata": {},
     "output_type": "execute_result"
    }
   ],
   "source": [
    "multiply_function(2.5,3.14,10)"
   ]
  }
 ],
 "metadata": {
  "kernelspec": {
   "display_name": "Python 3",
   "language": "python",
   "name": "python3"
  },
  "language_info": {
   "codemirror_mode": {
    "name": "ipython",
    "version": 3
   },
   "file_extension": ".py",
   "mimetype": "text/x-python",
   "name": "python",
   "nbconvert_exporter": "python",
   "pygments_lexer": "ipython3",
   "version": "3.8.8"
  }
 },
 "nbformat": 4,
 "nbformat_minor": 5
}
